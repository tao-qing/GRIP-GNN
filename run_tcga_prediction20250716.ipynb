{
 "cells": [
  {
   "cell_type": "code",
   "execution_count": 20,
   "id": "9b845785-0a6c-4f9d-a6e0-474ead886b7f",
   "metadata": {},
   "outputs": [],
   "source": [
    "import pandas as pd\n",
    "import torch\n",
    "import torch.nn.functional as F\n",
    "from torch_geometric.data import Data\n",
    "from torch_geometric.nn import GATConv, global_mean_pool\n",
    "from torch_geometric.loader import DataLoader\n",
    "from sklearn.model_selection import StratifiedKFold\n",
    "from sklearn.metrics import accuracy_score, roc_auc_score, precision_score, recall_score, f1_score, roc_curve\n",
    "import numpy as np\n",
    "import matplotlib.pyplot as plt\n",
    "from sklearn.manifold import TSNE\n",
    "import pickle\n",
    "from sklearn.metrics import roc_curve, auc\n",
    "from tqdm import tqdm\n",
    "\n",
    "import os\n",
    "os.makedirs('out', exist_ok=True)"
   ]
  },
  {
   "cell_type": "code",
   "execution_count": 3,
   "id": "3c29f264-21f0-42d5-9484-d4b732bbcf89",
   "metadata": {},
   "outputs": [],
   "source": [
    "from old_gat_withweight import build_samples,GATWeightedClassifier,train,evaluate,run_cross_validation"
   ]
  },
  {
   "cell_type": "code",
   "execution_count": 8,
   "id": "68b9655c-ce37-4e7d-8db9-7d65369128c7",
   "metadata": {},
   "outputs": [
    {
     "data": {
      "text/plain": [
       "dict_keys(['gvariant_status', 'gene', 'edge', 'dependency_score', 'pli', 'sh', 'age', 'patients', 'cancer'])"
      ]
     },
     "execution_count": 8,
     "metadata": {},
     "output_type": "execute_result"
    }
   ],
   "source": [
    "germline_input = np.load('./data/tcga_germlinevariants_7861patients.npy', allow_pickle= True).item()\n",
    "germline_input.keys()"
   ]
  },
  {
   "cell_type": "code",
   "execution_count": 13,
   "id": "715c78f8-fb74-4bb5-876c-5c1bfa12ff14",
   "metadata": {},
   "outputs": [],
   "source": [
    "import itertools\n",
    "cancers = pd.Series(germline_input['cancer']).value_counts().index\n",
    "combs = list(itertools.combinations(cancers[:10], 2))"
   ]
  },
  {
   "cell_type": "code",
   "execution_count": null,
   "id": "66420f31-ea1a-4d09-bea3-2d5495337c78",
   "metadata": {},
   "outputs": [
    {
     "name": "stderr",
     "output_type": "stream",
     "text": [
      "cancers:   0%|          | 0/3 [00:00<?, ?it/s]\n",
      "weights:   0%|          | 0/4 [00:00<?, ?it/s]\u001b[A/home/jovyan/GRIP-GNN/old_gat_withweight.py:44: UserWarning: To copy construct from a tensor, it is recommended to use sourceTensor.clone().detach() or sourceTensor.clone().detach().requires_grad_(True), rather than torch.tensor(sourceTensor).\n",
      "  edge_index = torch.tensor(edge, dtype=torch.long)\n"
     ]
    },
    {
     "name": "stdout",
     "output_type": "stream",
     "text": [
      "\n",
      "===== Fold 1 =====\n"
     ]
    }
   ],
   "source": [
    "for g,s in tqdm(combs, desc=\"cancers\"):\n",
    "    cancer_index = np.where(pd.Series(germline_input['cancer']) == g)\n",
    "    control_index = np.where(pd.Series(germline_input['cancer']) == s)\n",
    "    all_index = np.concatenate((cancer_index[0], control_index[0]))\n",
    "    \n",
    "    g_input = np.concatenate((germline_input['gvariant_status'][cancer_index],germline_input['gvariant_status'][control_index]),axis = 0)\n",
    "    edge_input = germline_input['edge']\n",
    "    label = [1] * len(cancer_index[0]) + [0] * len(control_index[0]) \n",
    "    \n",
    "    for weight_score in tqdm([None, 'dependency_score', 'pli','sh'],desc='weights'):\n",
    "        if weight_score is None:\n",
    "            input_object = build_samples(g_input, \n",
    "                            edge_input, \n",
    "                            label,\n",
    "                            None\n",
    "                            )\n",
    "        else:\n",
    "            input_object = build_samples(g_input, \n",
    "                            edge_input, \n",
    "                            label,\n",
    "                            germline_input[weight_score].fillna(0.0).to_numpy(dtype=float)\n",
    "                            )\n",
    "        #pos_weight_tensor = torch.tensor([186 / 784], device='cpu')\n",
    "        output = run_cross_validation(input_object, in_channels=1, pos_weight = None, epochs=30, folds = 4, task = f'{g}_vs_{s}')\n",
    "        np.save(f'./out/{g}_vs_{s}_weight_{str(weight_score)}_prediction_results.npy', output, allow_pickle=True)\n",
    "\n",
    "        true_label = []\n",
    "        pred_scores = []\n",
    "        predictions = []\n",
    "        for i in output:\n",
    "            true_label = true_label + i['true']\n",
    "            pred_scores = pred_scores + i['scores']\n",
    "            predictions = predictions + i['predictions']\n",
    "\n",
    "        \n",
    "        # Example data: true labels and prediction scores\n",
    "        y_true = [0, 0, 1, 1]\n",
    "        y_scores = [0.1, 0.4, 0.35, 0.8]  # predicted probabilities for the positive class\n",
    "        \n",
    "        # Calculate ROC curve values\n",
    "        fpr, tpr, thresholds = roc_curve(true_label, pred_scores)\n",
    "        roc_auc = auc(fpr, tpr)\n",
    "        \n",
    "        # Plot\n",
    "        plt.figure()\n",
    "        plt.plot(fpr, tpr, label=f\"ROC Curve (AUC = {roc_auc:.2f})\")\n",
    "        plt.plot([0, 1], [0, 1], 'k--', label='Random Guess')\n",
    "        plt.xlabel(\"False Positive Rate\")\n",
    "        plt.ylabel(\"True Positive Rate\")\n",
    "        plt.title(\"ROC Curve\")\n",
    "        plt.legend(loc=\"lower right\")\n",
    "        plt.grid(True)\n",
    "        plt.savefig(f'./out/{g}_vs_{s}_weight_{str(weight_score)}_test_roc.png', dpi=150, bbox_inches='tight')\n",
    "        plt.show()"
   ]
  }
 ],
 "metadata": {
  "kernelspec": {
   "display_name": "grip-gnn-d507ehsT-py3.11",
   "language": "python",
   "name": "grip-gnn-d507ehst-py3.11"
  },
  "language_info": {
   "codemirror_mode": {
    "name": "ipython",
    "version": 3
   },
   "file_extension": ".py",
   "mimetype": "text/x-python",
   "name": "python",
   "nbconvert_exporter": "python",
   "pygments_lexer": "ipython3",
   "version": "3.11.8"
  }
 },
 "nbformat": 4,
 "nbformat_minor": 5
}
